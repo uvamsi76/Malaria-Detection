{
 "cells": [
  {
   "cell_type": "code",
   "execution_count": 1,
   "metadata": {},
   "outputs": [],
   "source": [
    "import os\n",
    "import random\n",
    "import torch\n",
    "from torch.utils.data import Dataset, DataLoader"
   ]
  },
  {
   "cell_type": "code",
   "execution_count": 2,
   "metadata": {},
   "outputs": [],
   "source": [
    "from torchvision import transforms\n",
    "from PIL import Image\n",
    "import cv2\n",
    "import numpy as np\n",
    "import matplotlib.pyplot as plt\n",
    "import torch.nn as nn\n",
    "from torch.optim import Adam"
   ]
  },
  {
   "cell_type": "code",
   "execution_count": 3,
   "metadata": {},
   "outputs": [],
   "source": [
    "train_paths_parasitized = []\n",
    "train_paths_uninfected = []\n",
    "\n",
    "train_paths_parasitized += os.listdir('data/training_set/Parasitized')"
   ]
  },
  {
   "cell_type": "code",
   "execution_count": 20,
   "metadata": {},
   "outputs": [
    {
     "data": {
      "text/plain": [
       "13780"
      ]
     },
     "execution_count": 20,
     "metadata": {},
     "output_type": "execute_result"
    }
   ],
   "source": [
    "len(train_paths_parasitized)"
   ]
  },
  {
   "cell_type": "code",
   "execution_count": 7,
   "metadata": {},
   "outputs": [],
   "source": [
    "train_paths_parasitized = ['data/training_set/Parasitized/' + i for i in train_paths_parasitized]"
   ]
  },
  {
   "cell_type": "code",
   "execution_count": 8,
   "metadata": {},
   "outputs": [],
   "source": [
    "train_paths_uninfected += os.listdir('data/training_set/Uninfected')\n",
    "train_paths_uninfected = ['data/training_set/Uninfected/' + i for i in train_paths_uninfected]"
   ]
  },
  {
   "cell_type": "code",
   "execution_count": 9,
   "metadata": {},
   "outputs": [
    {
     "data": {
      "text/plain": [
       "'data/training_set/Uninfected/C100P61ThinF_IMG_20150918_144104_cell_128.png'"
      ]
     },
     "execution_count": 9,
     "metadata": {},
     "output_type": "execute_result"
    }
   ],
   "source": [
    "train_paths_uninfected[0]"
   ]
  },
  {
   "cell_type": "code",
   "execution_count": 10,
   "metadata": {},
   "outputs": [],
   "source": [
    "\n",
    "paths = train_paths_parasitized + train_paths_uninfected\n",
    "# paths.remove(\"cell_images/Parasitized/Thumbs.db\")\n",
    "# paths.remove(\"cell_images/Uninfected/Thumbs.db\")"
   ]
  },
  {
   "cell_type": "code",
   "execution_count": 11,
   "metadata": {},
   "outputs": [
    {
     "data": {
      "text/plain": [
       "27560"
      ]
     },
     "execution_count": 11,
     "metadata": {},
     "output_type": "execute_result"
    }
   ],
   "source": [
    "len(paths)"
   ]
  },
  {
   "cell_type": "code",
   "execution_count": 12,
   "metadata": {},
   "outputs": [],
   "source": [
    "l=[]\n",
    "for i in range(len(paths)):\n",
    "    # print(i)\n",
    "    image = cv2.imread(paths[i])\n",
    "    if(image is None):\n",
    "        l.append(i)"
   ]
  },
  {
   "cell_type": "code",
   "execution_count": 13,
   "metadata": {},
   "outputs": [
    {
     "data": {
      "text/plain": [
       "[13779, 27559]"
      ]
     },
     "execution_count": 13,
     "metadata": {},
     "output_type": "execute_result"
    }
   ],
   "source": [
    "l"
   ]
  },
  {
   "cell_type": "code",
   "execution_count": 14,
   "metadata": {},
   "outputs": [],
   "source": [
    "c=0\n",
    "for i in l:\n",
    "    paths.pop(i-c)\n",
    "    c+=1"
   ]
  },
  {
   "cell_type": "code",
   "execution_count": 15,
   "metadata": {},
   "outputs": [],
   "source": [
    "random.shuffle(paths)"
   ]
  },
  {
   "cell_type": "code",
   "execution_count": 22,
   "metadata": {},
   "outputs": [
    {
     "name": "stdout",
     "output_type": "stream",
     "text": [
      "5512 22046\n"
     ]
    }
   ],
   "source": [
    "FRACTION = 0.8\n",
    "train_paths = paths[0:int(FRACTION*len(paths))]\n",
    "val_paths = paths[int(FRACTION*len(paths)):]\n",
    "print(len(val_paths), len(train_paths))"
   ]
  },
  {
   "cell_type": "code",
   "execution_count": 29,
   "metadata": {},
   "outputs": [],
   "source": [
    "# for i in train_paths:\n",
    "#     if(i.split('/')[2]=='Parasitized'):\n",
    "#         c+=1"
   ]
  },
  {
   "cell_type": "code",
   "execution_count": 30,
   "metadata": {},
   "outputs": [],
   "source": [
    "class Malaria(Dataset):\n",
    "  def __init__(self, image_filepaths, transform = None):\n",
    "    self.image_filepaths = image_filepaths\n",
    "    self.transform = transform\n",
    "\n",
    "  def __len__(self):\n",
    "    return len(self.image_filepaths)\n",
    "\n",
    "  def __getitem__(self, index):\n",
    "\n",
    "    image = cv2.imread(self.image_filepaths[index])\n",
    "\n",
    "    if(self.image_filepaths[index].split('/')[1] == 'Parasitized'):\n",
    "      label = 0.0\n",
    "    else:\n",
    "      label = 1.0\n",
    "\n",
    "\n",
    "    if self.transform:\n",
    "      image_pil = Image.fromarray(image)\n",
    "      image = self.transform(image_pil)\n",
    "      image=image.detach().numpy()\n",
    "      image=np.transpose(image, (1, 2, 0))\n",
    "    return image, label\n"
   ]
  },
  {
   "cell_type": "code",
   "execution_count": 31,
   "metadata": {},
   "outputs": [],
   "source": [
    "IM_SIZE = 224\n",
    "transform = transforms.Compose([\n",
    "    transforms.Resize((IM_SIZE, IM_SIZE)),\n",
    "    transforms.RandomRotation(degrees=(0, 90)),  \n",
    "    transforms.ColorJitter(brightness=0.2, contrast=0.2),  \n",
    "    transforms.ToTensor(),\n",
    "    transforms.Normalize(mean=[0.485, 0.456, 0.406], std=[0.229, 0.224, 0.225])  # Assuming RGB normalization\n",
    "])\n"
   ]
  },
  {
   "cell_type": "code",
   "execution_count": 32,
   "metadata": {},
   "outputs": [],
   "source": [
    "train_dataset = Malaria(train_paths, transform)\n",
    "val_dataset = Malaria(val_paths, transform)"
   ]
  },
  {
   "cell_type": "code",
   "execution_count": 141,
   "metadata": {},
   "outputs": [],
   "source": [
    "# for i in range(22049):\n",
    "#     if(train_dataset.__getitem__(1)[0].any()==None):\n",
    "#         print(i)\n",
    "    "
   ]
  },
  {
   "cell_type": "code",
   "execution_count": 34,
   "metadata": {},
   "outputs": [],
   "source": [
    "# train_dataset.__getitem__(1)[0].shape"
   ]
  },
  {
   "cell_type": "code",
   "execution_count": 35,
   "metadata": {},
   "outputs": [],
   "source": [
    "BATCH_SIZE = 32\n",
    "train_loader = DataLoader(train_dataset, batch_size = BATCH_SIZE, shuffle = True)\n",
    "val_loader = DataLoader(val_dataset, batch_size = BATCH_SIZE)"
   ]
  },
  {
   "cell_type": "code",
   "execution_count": 36,
   "metadata": {},
   "outputs": [
    {
     "name": "stdout",
     "output_type": "stream",
     "text": [
      "tensor([[0.7248, 0.7419, 0.7248,  ..., 0.6563, 0.6734, 0.7077],\n",
      "        [0.7077, 0.7419, 0.7248,  ..., 0.6563, 0.6906, 0.6906],\n",
      "        [0.7248, 0.7077, 0.7419,  ..., 0.6221, 0.6563, 0.6906],\n",
      "        ...,\n",
      "        [0.6906, 0.6563, 0.6392,  ..., 0.5878, 0.6221, 0.6221],\n",
      "        [0.6906, 0.6734, 0.6734,  ..., 0.5878, 0.5878, 0.6221],\n",
      "        [0.6734, 0.6734, 0.6734,  ..., 0.5878, 0.6049, 0.6049]])\n"
     ]
    }
   ],
   "source": [
    "image, label = next(iter(train_loader))\n",
    "print(image[1][100:150,100:150,0])"
   ]
  },
  {
   "cell_type": "code",
   "execution_count": 37,
   "metadata": {},
   "outputs": [
    {
     "data": {
      "text/plain": [
       "torch.Size([32, 224, 224, 3])"
      ]
     },
     "execution_count": 37,
     "metadata": {},
     "output_type": "execute_result"
    }
   ],
   "source": [
    "image.shape"
   ]
  },
  {
   "cell_type": "code",
   "execution_count": 38,
   "metadata": {},
   "outputs": [
    {
     "name": "stderr",
     "output_type": "stream",
     "text": [
      "Clipping input data to the valid range for imshow with RGB data ([0..1] for floats or [0..255] for integers). Got range [-1.7240347..1.7685405].\n"
     ]
    },
    {
     "name": "stdout",
     "output_type": "stream",
     "text": [
      "tensor(1., dtype=torch.float64)\n"
     ]
    },
    {
     "data": {
      "image/png": "[encoded data removed]",
      "text/plain": [
       "<Figure size 640x480 with 1 Axes>"
      ]
     },
     "metadata": {},
     "output_type": "display_data"
    }
   ],
   "source": [
    "plt.imshow(image[0])\n",
    "print(label[0])"
   ]
  },
  {
   "cell_type": "code",
   "execution_count": 39,
   "metadata": {},
   "outputs": [
    {
     "data": {
      "text/plain": [
       "torch.Size([224, 224, 3])"
      ]
     },
     "execution_count": 39,
     "metadata": {},
     "output_type": "execute_result"
    }
   ],
   "source": [
    "image[0].shape"
   ]
  },
  {
   "cell_type": "code",
   "execution_count": 40,
   "metadata": {},
   "outputs": [
    {
     "data": {
      "text/plain": [
       "torch.Size([3, 50176])"
      ]
     },
     "execution_count": 40,
     "metadata": {},
     "output_type": "execute_result"
    }
   ],
   "source": [
    "image[0].view(-1, 16 * 56 * 56).shape"
   ]
  },
  {
   "cell_type": "code",
   "execution_count": 41,
   "metadata": {},
   "outputs": [],
   "source": [
    "class LeNet(nn.Module):\n",
    "    def __init__(self):\n",
    "        super(LeNet, self).__init__()\n",
    "\n",
    "        self.feature_extractor = nn.Sequential(\n",
    "            nn.Conv2d(3, 6, kernel_size=3, stride=1, padding=1),\n",
    "            nn.BatchNorm2d(6),\n",
    "            nn.ReLU(),\n",
    "            nn.MaxPool2d(2, 2),\n",
    "            nn.Dropout2d(0.2),\n",
    "            nn.Conv2d(6, 16, kernel_size=3, stride=1, padding=1),\n",
    "            nn.BatchNorm2d(16),\n",
    "            nn.ReLU(),\n",
    "            nn.MaxPool2d(2, 2)\n",
    "        )\n",
    "\n",
    "        self.classifier = nn.Sequential(\n",
    "            nn.Linear(16 * 56 * 56, 100),\n",
    "            nn.BatchNorm1d(100),\n",
    "            nn.ReLU(),\n",
    "            nn.Linear(100, 10),\n",
    "            nn.BatchNorm1d(10),\n",
    "            nn.ReLU(),\n",
    "            nn.Linear(10, 1),\n",
    "            nn.Sigmoid()\n",
    "        )\n",
    "\n",
    "    def forward(self, x):\n",
    "        x = self.feature_extractor(x)\n",
    "        x = x.reshape(-1, 16 * 56 * 56)  # Reshape for the fully connected layer\n",
    "        x = self.classifier(x)\n",
    "        return x"
   ]
  },
  {
   "cell_type": "code",
   "execution_count": 42,
   "metadata": {},
   "outputs": [],
   "source": [
    "model = LeNet()\n",
    "\n",
    "op=model(torch.zeros((3,3,224,224)))\n"
   ]
  },
  {
   "cell_type": "code",
   "execution_count": 43,
   "metadata": {},
   "outputs": [
    {
     "data": {
      "text/plain": [
       "torch.Size([3, 1])"
      ]
     },
     "execution_count": 43,
     "metadata": {},
     "output_type": "execute_result"
    }
   ],
   "source": [
    "op.shape"
   ]
  },
  {
   "cell_type": "code",
   "execution_count": null,
   "metadata": {},
   "outputs": [],
   "source": [
    "device = torch.device(\"cpu\")\n",
    "loss_fn = torch.nn.BCELoss()\n",
    "optimizer = Adam(model.parameters(), lr=1e-3, )"
   ]
  },
  {
   "cell_type": "code",
   "execution_count": 153,
   "metadata": {},
   "outputs": [
    {
     "data": {
      "text/plain": [
       "device(type='cuda', index=0)"
      ]
     },
     "execution_count": 153,
     "metadata": {},
     "output_type": "execute_result"
    }
   ],
   "source": [
    "device"
   ]
  },
  {
   "cell_type": "code",
   "execution_count": 154,
   "metadata": {},
   "outputs": [],
   "source": [
    "def round(x):\n",
    "  if(x>= 0.5):\n",
    "    return 1.\n",
    "  else:\n",
    "    return 0."
   ]
  },
  {
   "cell_type": "code",
   "execution_count": 155,
   "metadata": {},
   "outputs": [],
   "source": [
    "def get_accuracy(epoch):\n",
    "  model.eval()\n",
    "  with torch.no_grad():\n",
    "    epoch_accuracy = 0\n",
    "    for i, (image, label) in enumerate(val_loader):\n",
    "      image = torch.permute(image, (0,3,1,2))\n",
    "      image = image.to(device)\n",
    "\n",
    "      output = model(image)\n",
    "\n",
    "      for i in range(len(output)):\n",
    "        if(round(output[i].item()) == label[i].item()):\n",
    "          epoch_accuracy += 1\n",
    "\n",
    "  print(\"The Validation Accuracy for this epoch:{} is:{} \".format(epoch, 100*epoch_accuracy/len(val_dataset)))"
   ]
  },
  {
   "cell_type": "code",
   "execution_count": 156,
   "metadata": {},
   "outputs": [],
   "source": [
    "# for i, (image, label) in enumerate(train_loader):\n",
    "#     print(image.shape)"
   ]
  },
  {
   "cell_type": "code",
   "execution_count": 158,
   "metadata": {},
   "outputs": [],
   "source": [
    "def train(EPOCHS):\n",
    "\n",
    "  model.to(device)\n",
    "\n",
    "  for epoch in range(EPOCHS):\n",
    "    epoch_loss = 0.0\n",
    "\n",
    "    for i, (image, label) in enumerate(train_loader):\n",
    "      image = torch.permute(image, (0,3,1,2))\n",
    "      image = image.to(device)\n",
    "\n",
    "      label = torch.unsqueeze(label, -1)\n",
    "      label = label.float()\n",
    "      label = label.to(device)\n",
    "\n",
    "      optimizer.zero_grad()\n",
    "\n",
    "      output = model(image)\n",
    "\n",
    "      loss = loss_fn(output, label)\n",
    "\n",
    "      loss.backward()\n",
    "      optimizer.step()\n",
    "\n",
    "      epoch_loss += loss.item()\n",
    "\n",
    "      step_length = int(len(train_loader)/2)\n",
    "\n",
    "      if(i%step_length) == 0:\n",
    "              print('Epoch Number: {}, step: [{}|{}] ----> Loss: {}' .format(epoch+1, i, len(train_loader), loss.item()))\n",
    "    print(\"Loss for epoch Number {} is :{}\".format(epoch+1, epoch_loss/len(train_loader)))\n",
    "\n",
    "    get_accuracy(epoch)\n"
   ]
  },
  {
   "cell_type": "code",
   "execution_count": 159,
   "metadata": {},
   "outputs": [
    {
     "name": "stdout",
     "output_type": "stream",
     "text": [
      "Epoch Number: 1, step: [0|689] ----> Loss: 0.597385585308075\n",
      "Epoch Number: 1, step: [344|689] ----> Loss: 0.06672168523073196\n",
      "Epoch Number: 1, step: [688|689] ----> Loss: 0.016881773248314857\n",
      "Loss for epoch Number 1 is :0.13487880782687872\n",
      "The Validation Accuracy for this epoch:0 is:100.0 \n",
      "Epoch Number: 2, step: [0|689] ----> Loss: 0.016385391354560852\n",
      "Epoch Number: 2, step: [344|689] ----> Loss: 0.0\n",
      "Epoch Number: 2, step: [688|689] ----> Loss: 0.0\n",
      "Loss for epoch Number 2 is :5.543675476228281e-05\n",
      "The Validation Accuracy for this epoch:1 is:100.0 \n",
      "Epoch Number: 3, step: [0|689] ----> Loss: 0.0\n",
      "Epoch Number: 3, step: [344|689] ----> Loss: 0.0\n",
      "Epoch Number: 3, step: [688|689] ----> Loss: 0.0\n",
      "Loss for epoch Number 3 is :7.569531262077756e-11\n",
      "The Validation Accuracy for this epoch:2 is:100.0 \n",
      "Epoch Number: 4, step: [0|689] ----> Loss: 0.0\n",
      "Epoch Number: 4, step: [344|689] ----> Loss: 0.0\n",
      "Epoch Number: 4, step: [688|689] ----> Loss: 0.0\n",
      "Loss for epoch Number 4 is :1.3517020110853133e-10\n",
      "The Validation Accuracy for this epoch:3 is:100.0 \n",
      "Epoch Number: 5, step: [0|689] ----> Loss: 0.0\n",
      "Epoch Number: 5, step: [344|689] ----> Loss: 0.0\n",
      "Epoch Number: 5, step: [688|689] ----> Loss: 0.0\n",
      "Loss for epoch Number 5 is :9.732254479814257e-11\n",
      "The Validation Accuracy for this epoch:4 is:100.0 \n",
      "Epoch Number: 6, step: [0|689] ----> Loss: 0.0\n",
      "Epoch Number: 6, step: [344|689] ----> Loss: 0.0\n",
      "Epoch Number: 6, step: [688|689] ----> Loss: 0.0\n",
      "Loss for epoch Number 6 is :1.5139062524155512e-10\n",
      "The Validation Accuracy for this epoch:5 is:100.0 \n",
      "Epoch Number: 7, step: [0|689] ----> Loss: 0.0\n",
      "Epoch Number: 7, step: [344|689] ----> Loss: 0.0\n",
      "Epoch Number: 7, step: [688|689] ----> Loss: 0.0\n",
      "Loss for epoch Number 7 is :1.2976339306419008e-10\n",
      "The Validation Accuracy for this epoch:6 is:100.0 \n",
      "Epoch Number: 8, step: [0|689] ----> Loss: 0.0\n",
      "Epoch Number: 8, step: [344|689] ----> Loss: 0.0\n",
      "Epoch Number: 8, step: [688|689] ----> Loss: 0.0\n",
      "Loss for epoch Number 8 is :1.3517020110853133e-10\n",
      "The Validation Accuracy for this epoch:7 is:100.0 \n",
      "Epoch Number: 9, step: [0|689] ----> Loss: 0.0\n",
      "Epoch Number: 9, step: [344|689] ----> Loss: 0.0\n",
      "Epoch Number: 9, step: [688|689] ----> Loss: 0.0\n",
      "Loss for epoch Number 9 is :1.2435658501984883e-10\n",
      "The Validation Accuracy for this epoch:8 is:100.0 \n",
      "Epoch Number: 10, step: [0|689] ----> Loss: 0.0\n",
      "Epoch Number: 10, step: [344|689] ----> Loss: 0.0\n",
      "Epoch Number: 10, step: [688|689] ----> Loss: 0.0\n",
      "Loss for epoch Number 10 is :1.1894977762004924e-10\n",
      "The Validation Accuracy for this epoch:9 is:100.0 \n",
      "Epoch Number: 11, step: [0|689] ----> Loss: 0.0\n",
      "Epoch Number: 11, step: [344|689] ----> Loss: 0.0\n",
      "Epoch Number: 11, step: [688|689] ----> Loss: 0.0\n",
      "Loss for epoch Number 11 is :1.0272935284248382e-10\n",
      "The Validation Accuracy for this epoch:10 is:100.0 \n",
      "Epoch Number: 12, step: [0|689] ----> Loss: 0.0\n",
      "Epoch Number: 12, step: [344|689] ----> Loss: 0.0\n",
      "Epoch Number: 12, step: [688|689] ----> Loss: 0.0\n",
      "Loss for epoch Number 12 is :8.650892870946006e-11\n",
      "The Validation Accuracy for this epoch:11 is:100.0 \n",
      "Epoch Number: 13, step: [0|689] ----> Loss: 0.0\n",
      "Epoch Number: 13, step: [344|689] ----> Loss: 0.0\n",
      "Epoch Number: 13, step: [688|689] ----> Loss: 0.0\n",
      "Loss for epoch Number 13 is :1.0813616088682507e-10\n",
      "The Validation Accuracy for this epoch:12 is:100.0 \n",
      "Epoch Number: 14, step: [0|689] ----> Loss: 0.0\n",
      "Epoch Number: 14, step: [344|689] ----> Loss: 0.0\n",
      "Epoch Number: 14, step: [688|689] ----> Loss: 0.0\n",
      "Loss for epoch Number 14 is :3.784765631038878e-11\n",
      "The Validation Accuracy for this epoch:13 is:100.0 \n",
      "Epoch Number: 15, step: [0|689] ----> Loss: 0.0\n",
      "Epoch Number: 15, step: [344|689] ----> Loss: 0.0\n",
      "Epoch Number: 15, step: [688|689] ----> Loss: 0.0\n",
      "Loss for epoch Number 15 is :1.0272935284248382e-10\n",
      "The Validation Accuracy for this epoch:14 is:100.0 \n",
      "Epoch Number: 16, step: [0|689] ----> Loss: 0.0\n",
      "Epoch Number: 16, step: [344|689] ----> Loss: 0.0\n",
      "Epoch Number: 16, step: [688|689] ----> Loss: 0.0\n",
      "Loss for epoch Number 16 is :6.488169653209504e-11\n",
      "The Validation Accuracy for this epoch:15 is:100.0 \n",
      "Epoch Number: 17, step: [0|689] ----> Loss: 0.0\n",
      "Epoch Number: 17, step: [344|689] ----> Loss: 0.0\n",
      "Epoch Number: 17, step: [688|689] ----> Loss: 0.0\n",
      "Loss for epoch Number 17 is :6.488169653209504e-11\n",
      "The Validation Accuracy for this epoch:16 is:100.0 \n",
      "Epoch Number: 18, step: [0|689] ----> Loss: 0.0\n",
      "Epoch Number: 18, step: [344|689] ----> Loss: 0.0\n",
      "Epoch Number: 18, step: [688|689] ----> Loss: 0.0\n",
      "Loss for epoch Number 18 is :7.02885045764363e-11\n",
      "The Validation Accuracy for this epoch:17 is:100.0 \n",
      "Epoch Number: 19, step: [0|689] ----> Loss: 0.0\n",
      "Epoch Number: 19, step: [344|689] ----> Loss: 0.0\n",
      "Epoch Number: 19, step: [688|689] ----> Loss: 0.0\n",
      "Loss for epoch Number 19 is :3.784765631038878e-11\n",
      "The Validation Accuracy for this epoch:18 is:100.0 \n",
      "Epoch Number: 20, step: [0|689] ----> Loss: 0.0\n",
      "Epoch Number: 20, step: [344|689] ----> Loss: 0.0\n",
      "Epoch Number: 20, step: [688|689] ----> Loss: 0.0\n",
      "Loss for epoch Number 20 is :2.1627232177365016e-11\n",
      "The Validation Accuracy for this epoch:19 is:100.0 \n"
     ]
    }
   ],
   "source": [
    "train(20)"
   ]
  },
  {
   "cell_type": "code",
   "execution_count": 213,
   "metadata": {},
   "outputs": [],
   "source": [
    "image = cv2.imread('data/single_prediction/Uninfected.png')\n"
   ]
  },
  {
   "cell_type": "code",
   "execution_count": 214,
   "metadata": {},
   "outputs": [
    {
     "data": {
      "text/plain": [
       "(157, 139, 3)"
      ]
     },
     "execution_count": 214,
     "metadata": {},
     "output_type": "execute_result"
    }
   ],
   "source": [
    "image.shape"
   ]
  },
  {
   "cell_type": "code",
   "execution_count": 215,
   "metadata": {},
   "outputs": [],
   "source": [
    "image_pil = Image.fromarray(image)\n",
    "image = transform(image_pil)\n",
    "image=image.detach().numpy()\n",
    "image = image[None, :, :, :]"
   ]
  },
  {
   "cell_type": "code",
   "execution_count": 216,
   "metadata": {},
   "outputs": [
    {
     "data": {
      "text/plain": [
       "torch.Size([1, 3, 224, 224])"
      ]
     },
     "execution_count": 216,
     "metadata": {},
     "output_type": "execute_result"
    }
   ],
   "source": [
    "image=torch.tensor(image)\n",
    "image.shape"
   ]
  },
  {
   "cell_type": "code",
   "execution_count": 217,
   "metadata": {},
   "outputs": [],
   "source": [
    "# image = torch.permute(image, (0,3,1,2))"
   ]
  },
  {
   "cell_type": "code",
   "execution_count": 218,
   "metadata": {},
   "outputs": [],
   "source": [
    "image = image.to(device)"
   ]
  },
  {
   "cell_type": "code",
   "execution_count": 189,
   "metadata": {},
   "outputs": [
    {
     "name": "stdout",
     "output_type": "stream",
     "text": [
      "torch.Size([32, 3, 224, 224])\n"
     ]
    }
   ],
   "source": [
    "for i, (image, label) in enumerate(train_loader):\n",
    "      image = torch.permute(image, (0,3,1,2))\n",
    "    #   image = image.to(device)\n",
    "      print(image.shape)\n",
    "      break\n"
   ]
  },
  {
   "cell_type": "code",
   "execution_count": null,
   "metadata": {},
   "outputs": [],
   "source": []
  },
  {
   "cell_type": "code",
   "execution_count": 219,
   "metadata": {},
   "outputs": [],
   "source": [
    "op=model(image)"
   ]
  },
  {
   "cell_type": "code",
   "execution_count": 220,
   "metadata": {},
   "outputs": [
    {
     "data": {
      "text/plain": [
       "tensor([[1.]], device='cuda:0', grad_fn=<SigmoidBackward0>)"
      ]
     },
     "execution_count": 220,
     "metadata": {},
     "output_type": "execute_result"
    }
   ],
   "source": [
    "op"
   ]
  },
  {
   "cell_type": "code",
   "execution_count": null,
   "metadata": {},
   "outputs": [],
   "source": []
  }
 ],
 "metadata": {
  "kernelspec": {
   "display_name": "venv",
   "language": "python",
   "name": "python3"
  },
  "language_info": {
   "codemirror_mode": {
    "name": "ipython",
    "version": 3
   },
   "file_extension": ".py",
   "mimetype": "text/x-python",
   "name": "python",
   "nbconvert_exporter": "python",
   "pygments_lexer": "ipython3",
   "version": "3.11.0"
  }
 },
 "nbformat": 4,
 "nbformat_minor": 2
}
